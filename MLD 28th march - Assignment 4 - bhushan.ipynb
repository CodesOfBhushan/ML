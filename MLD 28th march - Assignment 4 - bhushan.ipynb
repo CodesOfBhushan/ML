{
 "cells": [
  {
   "cell_type": "markdown",
   "metadata": {},
   "source": [
    "# MLD 28th march - Assignment 4"
   ]
  },
  {
   "cell_type": "markdown",
   "metadata": {},
   "source": [
    "1.1 Write a Python Program(with class concepts) to find the area of the triangle using the below\n",
    "formula.\n",
    "\n",
    "area = (s*(s-a)*(s-b)*(s-c)) ** 0.5\n",
    "\n",
    "Function to take the length of the sides of triangle from user should be defined in the parent\n",
    "class and function to calculate the area should be defined in subclass."
   ]
  },
  {
   "cell_type": "code",
   "execution_count": 14,
   "metadata": {},
   "outputs": [],
   "source": [
    "class TriangleParent:\n",
    "    def __init__(self):\n",
    "        self.a = int(input(\"Enter side a: \"))\n",
    "        self.b = int(input(\"Enter side b: \"))\n",
    "        self.c = int(input(\"Enter side c: \"))\n",
    "    \n",
    "    def __str__(self):\n",
    "        return \"side a=:{0}, side b=:{1}, side c=:{2}\".format(self.a,self.b,self.c)\n",
    "\n",
    "class TriangleChild(TriangleParent):\n",
    "    def __init__(self):\n",
    "        super(TriangleChild,self).__init__()\n",
    "    \n",
    "    def calculatearea(self):\n",
    "        self.s = (self.a+self.b+self.c) * 0.5\n",
    "        self.area = (self.s*(self.s-self.a)*(self.s-self.b)*(self.s-self.c)) * 0.5\n",
    "        print(\"Area of triangle ={0} & given side a,b,c: {1},{2},{3}\".format(self.area,self.a,self.b,self.c))\n",
    "    "
   ]
  },
  {
   "cell_type": "code",
   "execution_count": 15,
   "metadata": {},
   "outputs": [
    {
     "name": "stdout",
     "output_type": "stream",
     "text": [
      "Enter side a: 2\n",
      "Enter side b: 2\n",
      "Enter side c: 2\n",
      "Area of triangle =1.5 & given side a,b,c: 2,2,2\n"
     ]
    }
   ],
   "source": [
    "#object creation and method call\n",
    "t1 = TriangleChild()\n",
    "t1.calculatearea()"
   ]
  },
  {
   "cell_type": "markdown",
   "metadata": {},
   "source": []
  },
  {
   "cell_type": "markdown",
   "metadata": {},
   "source": [
    "1.2 Write a function filter_long_words() that takes a list of words and an integer n and returns\n",
    "the list of words that are longer than n."
   ]
  },
  {
   "cell_type": "code",
   "execution_count": 17,
   "metadata": {},
   "outputs": [],
   "source": [
    "def filter_long_words(wordlist, n):\n",
    "    l=[]\n",
    "    for i in wordlist:\n",
    "        if(len(i)>n):\n",
    "            l.append(i)\n",
    "    return l\n"
   ]
  },
  {
   "cell_type": "code",
   "execution_count": 18,
   "metadata": {},
   "outputs": [
    {
     "data": {
      "text/plain": [
       "['Bangalore', 'chennai', 'information']"
      ]
     },
     "execution_count": 18,
     "metadata": {},
     "output_type": "execute_result"
    }
   ],
   "source": [
    "wordlist = ['learn','ml','dl','Zmr','Bangalore','chennai','information']\n",
    "n=5\n",
    "filter_long_words(wordlist, n)"
   ]
  },
  {
   "cell_type": "markdown",
   "metadata": {},
   "source": []
  },
  {
   "cell_type": "markdown",
   "metadata": {},
   "source": [
    "2.1 Write a Python program using function concept that maps list of words into a list of integers\n",
    "representing the lengths of the corresponding words.\n",
    "\n",
    "Hint: If a list [ ab,cde,erty] is passed on to the python function output should come as [2,3,4]\n",
    "Here 2,3 and 4 are the lengths of the words in the list."
   ]
  },
  {
   "cell_type": "code",
   "execution_count": 22,
   "metadata": {},
   "outputs": [],
   "source": [
    "def words_length(wordlist):\n",
    "    l=[]\n",
    "    for i in wordlist:\n",
    "        l.append(len(i))\n",
    "    \n",
    "    return l"
   ]
  },
  {
   "cell_type": "code",
   "execution_count": 23,
   "metadata": {},
   "outputs": [
    {
     "data": {
      "text/plain": [
       "[5, 2, 2, 3, 9, 7, 11]"
      ]
     },
     "execution_count": 23,
     "metadata": {},
     "output_type": "execute_result"
    }
   ],
   "source": [
    "wordlist = ['learn','ml','dl','Zmr','Bangalore','chennai','information']\n",
    "words_length(wordlist)"
   ]
  },
  {
   "cell_type": "markdown",
   "metadata": {},
   "source": []
  },
  {
   "cell_type": "markdown",
   "metadata": {},
   "source": [
    "2.2 Write a Python function which takes a character (i.e. a string of length 1) and returns True if\n",
    "it is a vowel, False otherwise."
   ]
  },
  {
   "cell_type": "code",
   "execution_count": 35,
   "metadata": {},
   "outputs": [],
   "source": [
    "def Vowel_finder(c):\n",
    "    l=['a','e','i','o','u','A','E','I','O','U']\n",
    "    if(len(c)>1):\n",
    "        return \"Input should be a Character\"\n",
    "    \n",
    "    for i in l:\n",
    "        if(c == i):\n",
    "            return True\n",
    "    else:\n",
    "        return False"
   ]
  },
  {
   "cell_type": "code",
   "execution_count": 38,
   "metadata": {},
   "outputs": [
    {
     "data": {
      "text/plain": [
       "True"
      ]
     },
     "execution_count": 38,
     "metadata": {},
     "output_type": "execute_result"
    }
   ],
   "source": [
    "isVowel = Vowel_finder('O')\n",
    "isVowel"
   ]
  },
  {
   "cell_type": "markdown",
   "metadata": {},
   "source": []
  }
 ],
 "metadata": {
  "kernelspec": {
   "display_name": "Python 3",
   "language": "python",
   "name": "python3"
  },
  "language_info": {
   "codemirror_mode": {
    "name": "ipython",
    "version": 3
   },
   "file_extension": ".py",
   "mimetype": "text/x-python",
   "name": "python",
   "nbconvert_exporter": "python",
   "pygments_lexer": "ipython3",
   "version": "3.7.6"
  }
 },
 "nbformat": 4,
 "nbformat_minor": 4
}
